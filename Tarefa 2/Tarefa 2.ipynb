{
 "cells": [
  {
   "cell_type": "markdown",
   "metadata": {},
   "source": [
    "# Introdução a Ciência de Dados - Tarefa 02\n",
    "## Aluno: Vitor Hugo Meneses Beck"
   ]
  },
  {
   "cell_type": "code",
   "execution_count": 1,
   "metadata": {},
   "outputs": [],
   "source": [
    "import pandas as pd\n",
    "import matplotlib.pyplot as plt\n",
    "import numpy as np"
   ]
  },
  {
   "cell_type": "markdown",
   "metadata": {},
   "source": [
    "## Leitura dos Dados\n",
    "Iremos fazer a leitura do arquivo disponibilizado para a execução do exercício e imprimir as 10 primeiras linhas para investigar suas caracteristicas"
   ]
  },
  {
   "cell_type": "code",
   "execution_count": 2,
   "metadata": {},
   "outputs": [
    {
     "data": {
      "text/html": [
       "<div>\n",
       "<style>\n",
       "    .dataframe thead tr:only-child th {\n",
       "        text-align: right;\n",
       "    }\n",
       "\n",
       "    .dataframe thead th {\n",
       "        text-align: left;\n",
       "    }\n",
       "\n",
       "    .dataframe tbody tr th {\n",
       "        vertical-align: top;\n",
       "    }\n",
       "</style>\n",
       "<table border=\"1\" class=\"dataframe\">\n",
       "  <thead>\n",
       "    <tr style=\"text-align: right;\">\n",
       "      <th></th>\n",
       "      <th>Séries temporais reais de preços dos produtos soja e milho.</th>\n",
       "      <th>Unnamed: 1</th>\n",
       "      <th>Unnamed: 2</th>\n",
       "      <th>Unnamed: 3</th>\n",
       "      <th>Unnamed: 4</th>\n",
       "      <th>Unnamed: 5</th>\n",
       "    </tr>\n",
       "  </thead>\n",
       "  <tbody>\n",
       "    <tr>\n",
       "      <th>0</th>\n",
       "      <td>Soja: Indicador de preços de Soja, comercializ...</td>\n",
       "      <td>NaN</td>\n",
       "      <td>NaN</td>\n",
       "      <td>NaN</td>\n",
       "      <td>NaN</td>\n",
       "      <td>NaN</td>\n",
       "    </tr>\n",
       "    <tr>\n",
       "      <th>1</th>\n",
       "      <td>Milho: Indicador de preços de Milho, comercial...</td>\n",
       "      <td>NaN</td>\n",
       "      <td>NaN</td>\n",
       "      <td>NaN</td>\n",
       "      <td>NaN</td>\n",
       "      <td>NaN</td>\n",
       "    </tr>\n",
       "    <tr>\n",
       "      <th>2</th>\n",
       "      <td>Fonte: www.cepea.esalq.usp.br</td>\n",
       "      <td>NaN</td>\n",
       "      <td>NaN</td>\n",
       "      <td>NaN</td>\n",
       "      <td>NaN</td>\n",
       "      <td>NaN</td>\n",
       "    </tr>\n",
       "    <tr>\n",
       "      <th>3</th>\n",
       "      <td>Período: Dados diários de 02/01/2014 a 30/12/2015</td>\n",
       "      <td>NaN</td>\n",
       "      <td>NaN</td>\n",
       "      <td>NaN</td>\n",
       "      <td>NaN</td>\n",
       "      <td>NaN</td>\n",
       "    </tr>\n",
       "    <tr>\n",
       "      <th>4</th>\n",
       "      <td>Total de datas: 498 dias</td>\n",
       "      <td>NaN</td>\n",
       "      <td>NaN</td>\n",
       "      <td>NaN</td>\n",
       "      <td>NaN</td>\n",
       "      <td>NaN</td>\n",
       "    </tr>\n",
       "    <tr>\n",
       "      <th>5</th>\n",
       "      <td>NaN</td>\n",
       "      <td>NaN</td>\n",
       "      <td>NaN</td>\n",
       "      <td>NaN</td>\n",
       "      <td>NaN</td>\n",
       "      <td>NaN</td>\n",
       "    </tr>\n",
       "    <tr>\n",
       "      <th>6</th>\n",
       "      <td>Observação</td>\n",
       "      <td>Data</td>\n",
       "      <td>Mês</td>\n",
       "      <td>Ano - Safra</td>\n",
       "      <td>Preços - Milho</td>\n",
       "      <td>Preços - Soja</td>\n",
       "    </tr>\n",
       "    <tr>\n",
       "      <th>7</th>\n",
       "      <td>1</td>\n",
       "      <td>02/01/2014</td>\n",
       "      <td>1</td>\n",
       "      <td>2014</td>\n",
       "      <td>26.64</td>\n",
       "      <td>72.18</td>\n",
       "    </tr>\n",
       "    <tr>\n",
       "      <th>8</th>\n",
       "      <td>2</td>\n",
       "      <td>03/01/2014</td>\n",
       "      <td>1</td>\n",
       "      <td>2014</td>\n",
       "      <td>27</td>\n",
       "      <td>71.42</td>\n",
       "    </tr>\n",
       "    <tr>\n",
       "      <th>9</th>\n",
       "      <td>3</td>\n",
       "      <td>06/01/2014</td>\n",
       "      <td>1</td>\n",
       "      <td>2014</td>\n",
       "      <td>27.29</td>\n",
       "      <td>71.38</td>\n",
       "    </tr>\n",
       "  </tbody>\n",
       "</table>\n",
       "</div>"
      ],
      "text/plain": [
       "  Séries temporais reais de preços dos produtos soja e milho.  Unnamed: 1  \\\n",
       "0  Soja: Indicador de preços de Soja, comercializ...                  NaN   \n",
       "1  Milho: Indicador de preços de Milho, comercial...                  NaN   \n",
       "2                      Fonte: www.cepea.esalq.usp.br                  NaN   \n",
       "3  Período: Dados diários de 02/01/2014 a 30/12/2015                  NaN   \n",
       "4                           Total de datas: 498 dias                  NaN   \n",
       "5                                                NaN                  NaN   \n",
       "6                                         Observação                 Data   \n",
       "7                                                  1           02/01/2014   \n",
       "8                                                  2           03/01/2014   \n",
       "9                                                  3           06/01/2014   \n",
       "\n",
       "  Unnamed: 2   Unnamed: 3      Unnamed: 4     Unnamed: 5  \n",
       "0        NaN          NaN             NaN            NaN  \n",
       "1        NaN          NaN             NaN            NaN  \n",
       "2        NaN          NaN             NaN            NaN  \n",
       "3        NaN          NaN             NaN            NaN  \n",
       "4        NaN          NaN             NaN            NaN  \n",
       "5        NaN          NaN             NaN            NaN  \n",
       "6        Mês  Ano - Safra  Preços - Milho  Preços - Soja  \n",
       "7          1         2014           26.64          72.18  \n",
       "8          1         2014              27          71.42  \n",
       "9          1         2014           27.29          71.38  "
      ]
     },
     "execution_count": 2,
     "metadata": {},
     "output_type": "execute_result"
    }
   ],
   "source": [
    "df = pd.read_excel(\"soja_milho.xlsx\")\n",
    "df.head(10)"
   ]
  },
  {
   "cell_type": "markdown",
   "metadata": {},
   "source": [
    "## Caracterização dos Dados\n",
    "Devemos remover as 6 primeiras linhas dos dados disponibilizados, pois as mesmas não serão utilizadas para os calculos que serão realizados"
   ]
  },
  {
   "cell_type": "code",
   "execution_count": 3,
   "metadata": {},
   "outputs": [
    {
     "data": {
      "text/html": [
       "<div>\n",
       "<style>\n",
       "    .dataframe thead tr:only-child th {\n",
       "        text-align: right;\n",
       "    }\n",
       "\n",
       "    .dataframe thead th {\n",
       "        text-align: left;\n",
       "    }\n",
       "\n",
       "    .dataframe tbody tr th {\n",
       "        vertical-align: top;\n",
       "    }\n",
       "</style>\n",
       "<table border=\"1\" class=\"dataframe\">\n",
       "  <thead>\n",
       "    <tr style=\"text-align: right;\">\n",
       "      <th>6</th>\n",
       "      <th>Observação</th>\n",
       "      <th>Data</th>\n",
       "      <th>Mês</th>\n",
       "      <th>Ano - Safra</th>\n",
       "      <th>Preços - Milho</th>\n",
       "      <th>Preços - Soja</th>\n",
       "    </tr>\n",
       "  </thead>\n",
       "  <tbody>\n",
       "    <tr>\n",
       "      <th>7</th>\n",
       "      <td>1</td>\n",
       "      <td>02/01/2014</td>\n",
       "      <td>1</td>\n",
       "      <td>2014</td>\n",
       "      <td>26.64</td>\n",
       "      <td>72.18</td>\n",
       "    </tr>\n",
       "    <tr>\n",
       "      <th>8</th>\n",
       "      <td>2</td>\n",
       "      <td>03/01/2014</td>\n",
       "      <td>1</td>\n",
       "      <td>2014</td>\n",
       "      <td>27</td>\n",
       "      <td>71.42</td>\n",
       "    </tr>\n",
       "    <tr>\n",
       "      <th>9</th>\n",
       "      <td>3</td>\n",
       "      <td>06/01/2014</td>\n",
       "      <td>1</td>\n",
       "      <td>2014</td>\n",
       "      <td>27.29</td>\n",
       "      <td>71.38</td>\n",
       "    </tr>\n",
       "    <tr>\n",
       "      <th>10</th>\n",
       "      <td>4</td>\n",
       "      <td>07/01/2014</td>\n",
       "      <td>1</td>\n",
       "      <td>2014</td>\n",
       "      <td>27.49</td>\n",
       "      <td>70.31</td>\n",
       "    </tr>\n",
       "    <tr>\n",
       "      <th>11</th>\n",
       "      <td>5</td>\n",
       "      <td>08/01/2014</td>\n",
       "      <td>1</td>\n",
       "      <td>2014</td>\n",
       "      <td>27.16</td>\n",
       "      <td>70.14</td>\n",
       "    </tr>\n",
       "    <tr>\n",
       "      <th>12</th>\n",
       "      <td>6</td>\n",
       "      <td>09/01/2014</td>\n",
       "      <td>1</td>\n",
       "      <td>2014</td>\n",
       "      <td>27.17</td>\n",
       "      <td>68.97</td>\n",
       "    </tr>\n",
       "    <tr>\n",
       "      <th>13</th>\n",
       "      <td>7</td>\n",
       "      <td>10/01/2014</td>\n",
       "      <td>1</td>\n",
       "      <td>2014</td>\n",
       "      <td>27.17</td>\n",
       "      <td>68.64</td>\n",
       "    </tr>\n",
       "    <tr>\n",
       "      <th>14</th>\n",
       "      <td>8</td>\n",
       "      <td>13/01/2014</td>\n",
       "      <td>1</td>\n",
       "      <td>2014</td>\n",
       "      <td>27.32</td>\n",
       "      <td>67.59</td>\n",
       "    </tr>\n",
       "    <tr>\n",
       "      <th>15</th>\n",
       "      <td>9</td>\n",
       "      <td>14/01/2014</td>\n",
       "      <td>1</td>\n",
       "      <td>2014</td>\n",
       "      <td>27.35</td>\n",
       "      <td>67.78</td>\n",
       "    </tr>\n",
       "    <tr>\n",
       "      <th>16</th>\n",
       "      <td>10</td>\n",
       "      <td>15/01/2014</td>\n",
       "      <td>1</td>\n",
       "      <td>2014</td>\n",
       "      <td>27.3</td>\n",
       "      <td>67.6</td>\n",
       "    </tr>\n",
       "  </tbody>\n",
       "</table>\n",
       "</div>"
      ],
      "text/plain": [
       "6  Observação        Data Mês Ano - Safra Preços - Milho Preços - Soja\n",
       "7           1  02/01/2014   1        2014          26.64         72.18\n",
       "8           2  03/01/2014   1        2014             27         71.42\n",
       "9           3  06/01/2014   1        2014          27.29         71.38\n",
       "10          4  07/01/2014   1        2014          27.49         70.31\n",
       "11          5  08/01/2014   1        2014          27.16         70.14\n",
       "12          6  09/01/2014   1        2014          27.17         68.97\n",
       "13          7  10/01/2014   1        2014          27.17         68.64\n",
       "14          8  13/01/2014   1        2014          27.32         67.59\n",
       "15          9  14/01/2014   1        2014          27.35         67.78\n",
       "16         10  15/01/2014   1        2014           27.3          67.6"
      ]
     },
     "execution_count": 3,
     "metadata": {},
     "output_type": "execute_result"
    }
   ],
   "source": [
    "df = df.drop(df.index[[0,1,2,3,4,5]])\n",
    "df.columns = df.iloc[0]\n",
    "df = df.reindex(df.index.drop(6))\n",
    "df.head(10)"
   ]
  },
  {
   "cell_type": "markdown",
   "metadata": {},
   "source": [
    "Os nomes das colunas serão renomeados para melhor trabalho, removendo assim, acentos, letras maiúsculas e removendo espaços.\n",
    "A variável data será convertida para o formato 'date' e os campos de preço serão convertidos para números, visto que durante a leitura, tudo foi considerado como 'string'"
   ]
  },
  {
   "cell_type": "code",
   "execution_count": 4,
   "metadata": {
    "scrolled": true
   },
   "outputs": [
    {
     "data": {
      "text/html": [
       "<div>\n",
       "<style>\n",
       "    .dataframe thead tr:only-child th {\n",
       "        text-align: right;\n",
       "    }\n",
       "\n",
       "    .dataframe thead th {\n",
       "        text-align: left;\n",
       "    }\n",
       "\n",
       "    .dataframe tbody tr th {\n",
       "        vertical-align: top;\n",
       "    }\n",
       "</style>\n",
       "<table border=\"1\" class=\"dataframe\">\n",
       "  <thead>\n",
       "    <tr style=\"text-align: right;\">\n",
       "      <th></th>\n",
       "      <th>observacao</th>\n",
       "      <th>data</th>\n",
       "      <th>mes</th>\n",
       "      <th>ano</th>\n",
       "      <th>preco_milho</th>\n",
       "      <th>preco_soja</th>\n",
       "    </tr>\n",
       "  </thead>\n",
       "  <tbody>\n",
       "    <tr>\n",
       "      <th>7</th>\n",
       "      <td>1</td>\n",
       "      <td>2014-01-02</td>\n",
       "      <td>1</td>\n",
       "      <td>2014</td>\n",
       "      <td>26.64</td>\n",
       "      <td>72.18</td>\n",
       "    </tr>\n",
       "    <tr>\n",
       "      <th>8</th>\n",
       "      <td>2</td>\n",
       "      <td>2014-01-03</td>\n",
       "      <td>1</td>\n",
       "      <td>2014</td>\n",
       "      <td>27.00</td>\n",
       "      <td>71.42</td>\n",
       "    </tr>\n",
       "    <tr>\n",
       "      <th>9</th>\n",
       "      <td>3</td>\n",
       "      <td>2014-01-06</td>\n",
       "      <td>1</td>\n",
       "      <td>2014</td>\n",
       "      <td>27.29</td>\n",
       "      <td>71.38</td>\n",
       "    </tr>\n",
       "    <tr>\n",
       "      <th>10</th>\n",
       "      <td>4</td>\n",
       "      <td>2014-01-07</td>\n",
       "      <td>1</td>\n",
       "      <td>2014</td>\n",
       "      <td>27.49</td>\n",
       "      <td>70.31</td>\n",
       "    </tr>\n",
       "    <tr>\n",
       "      <th>11</th>\n",
       "      <td>5</td>\n",
       "      <td>2014-01-08</td>\n",
       "      <td>1</td>\n",
       "      <td>2014</td>\n",
       "      <td>27.16</td>\n",
       "      <td>70.14</td>\n",
       "    </tr>\n",
       "  </tbody>\n",
       "</table>\n",
       "</div>"
      ],
      "text/plain": [
       "   observacao       data mes   ano  preco_milho  preco_soja\n",
       "7           1 2014-01-02   1  2014        26.64       72.18\n",
       "8           2 2014-01-03   1  2014        27.00       71.42\n",
       "9           3 2014-01-06   1  2014        27.29       71.38\n",
       "10          4 2014-01-07   1  2014        27.49       70.31\n",
       "11          5 2014-01-08   1  2014        27.16       70.14"
      ]
     },
     "execution_count": 4,
     "metadata": {},
     "output_type": "execute_result"
    }
   ],
   "source": [
    "df.columns = ['observacao', 'data', 'mes', 'ano', 'preco_milho', 'preco_soja']\n",
    "df['data'] = pd.to_datetime(df['data'], format='%d/%m/%Y')\n",
    "df['preco_milho'] = pd.to_numeric(df['preco_milho'])\n",
    "df['preco_soja'] = pd.to_numeric(df['preco_soja'])\n",
    "df.head()"
   ]
  },
  {
   "cell_type": "code",
   "execution_count": 5,
   "metadata": {},
   "outputs": [
    {
     "data": {
      "text/plain": [
       "(498, 6)"
      ]
     },
     "execution_count": 5,
     "metadata": {},
     "output_type": "execute_result"
    }
   ],
   "source": [
    "nAmostras = df.shape[0]\n",
    "df.shape"
   ]
  },
  {
   "cell_type": "markdown",
   "metadata": {},
   "source": [
    "Assim, podemos observar que os dados tem a dimensão de 498X5"
   ]
  },
  {
   "cell_type": "code",
   "execution_count": 6,
   "metadata": {},
   "outputs": [
    {
     "name": "stdout",
     "output_type": "stream",
     "text": [
      "Média preço da soja:  66.4982730924\n"
     ]
    }
   ],
   "source": [
    "print(\"Média preço da soja: \", np.mean(df['preco_soja']))\n"
   ]
  },
  {
   "cell_type": "code",
   "execution_count": 7,
   "metadata": {},
   "outputs": [
    {
     "name": "stdout",
     "output_type": "stream",
     "text": [
      "Mediana preço da soja:  65.165\n"
     ]
    }
   ],
   "source": [
    "print(\"Mediana preço da soja: \",np.median(df['preco_soja']))"
   ]
  },
  {
   "cell_type": "code",
   "execution_count": 8,
   "metadata": {},
   "outputs": [
    {
     "name": "stdout",
     "output_type": "stream",
     "text": [
      "Média preço do milho 27.9550803213\n"
     ]
    }
   ],
   "source": [
    "print(\"Média preço do milho\", np.mean(df['preco_milho']))"
   ]
  },
  {
   "cell_type": "code",
   "execution_count": 9,
   "metadata": {},
   "outputs": [
    {
     "name": "stdout",
     "output_type": "stream",
     "text": [
      "Mediana preço do milho:  27.535\n"
     ]
    }
   ],
   "source": [
    "print(\"Mediana preço do milho: \", np.median(df['preco_milho']))"
   ]
  },
  {
   "cell_type": "code",
   "execution_count": 10,
   "metadata": {},
   "outputs": [
    {
     "data": {
      "image/png": "[encoded data removed]",
      "text/plain": [
       "<matplotlib.figure.Figure at 0x7ffaf0f27278>"
      ]
     },
     "metadata": {},
     "output_type": "display_data"
    }
   ],
   "source": [
    "plt.hist(df['preco_soja'], bins=10, color='blue')\n",
    "plt.title(\"Histograma do preço da soja\")\n",
    "plt.show()"
   ]
  },
  {
   "cell_type": "markdown",
   "metadata": {},
   "source": [
    "Pode-se observar que a maior quantidade de valores observados para o preço da soja encontram-se no intervalo entre 60 e 65 reais."
   ]
  },
  {
   "cell_type": "code",
   "execution_count": 11,
   "metadata": {},
   "outputs": [
    {
     "data": {
      "image/png": "[encoded data removed]",
      "text/plain": [
       "<matplotlib.figure.Figure at 0x7ffaeee88400>"
      ]
     },
     "metadata": {},
     "output_type": "display_data"
    }
   ],
   "source": [
    "plt.hist(df['preco_milho'], bins=10, color='orange')\n",
    "plt.title(\"Histograma do preço da milho\")\n",
    "plt.show()"
   ]
  },
  {
   "cell_type": "markdown",
   "metadata": {},
   "source": [
    "Pode-se observar que a maior quantidade de valores observados para o preço do milho encontram-se no intervalo entre 24 e 30 reais, possuindo uma maior dispersão que o preço da soja."
   ]
  },
  {
   "cell_type": "markdown",
   "metadata": {},
   "source": [
    "## Ánalise de outliers"
   ]
  },
  {
   "cell_type": "markdown",
   "metadata": {},
   "source": [
    "Boxplot dos preços do milho e da soja, respectivamente."
   ]
  },
  {
   "cell_type": "code",
   "execution_count": 12,
   "metadata": {},
   "outputs": [
    {
     "data": {
      "image/png": "[encoded data removed]",
      "text/plain": [
       "<matplotlib.figure.Figure at 0x7ffaeee88550>"
      ]
     },
     "metadata": {},
     "output_type": "display_data"
    }
   ],
   "source": [
    "df.boxplot(column=['preco_milho'])\n",
    "plt.show()"
   ]
  },
  {
   "cell_type": "code",
   "execution_count": 13,
   "metadata": {},
   "outputs": [
    {
     "data": {
      "image/png": "[encoded data removed]",
      "text/plain": [
       "<matplotlib.figure.Figure at 0x7ffaeee09a90>"
      ]
     },
     "metadata": {},
     "output_type": "display_data"
    }
   ],
   "source": [
    "df.boxplot(column=['preco_soja'])\n",
    "plt.show()"
   ]
  },
  {
   "cell_type": "markdown",
   "metadata": {},
   "source": [
    "Podemos encontrar alguns valores encontram-se fora do boxplot, sendo assim outliers do preços da soja."
   ]
  },
  {
   "cell_type": "markdown",
   "metadata": {},
   "source": [
    "### Gráfico de linha\n",
    "Gráfico de linha da série histórica dos preços."
   ]
  },
  {
   "cell_type": "code",
   "execution_count": 14,
   "metadata": {},
   "outputs": [
    {
     "data": {
      "image/png": "[encoded data removed]",
      "text/plain": [
       "<matplotlib.figure.Figure at 0x7ffaeed69ef0>"
      ]
     },
     "metadata": {},
     "output_type": "display_data"
    }
   ],
   "source": [
    "linhaMilho = plt.plot(df['data'], df['preco_milho'], label='Preço do Milho (R$)')\n",
    "linhaSoja = plt.plot(df['data'], df['preco_soja'], label='Preço da Soja (R$)')\n",
    "legenda = plt.legend(handles=[linhaMilho[0], linhaSoja[0]])\n",
    "plt.title('Valores Diários')\n",
    "plt.show()"
   ]
  },
  {
   "cell_type": "markdown",
   "metadata": {},
   "source": [
    "Para melhor comparação das séries, iremos normaliza-las, obtendo assim valores entre -1 e 1."
   ]
  },
  {
   "cell_type": "code",
   "execution_count": 15,
   "metadata": {},
   "outputs": [
    {
     "data": {
      "image/png": "[encoded data removed]",
      "text/plain": [
       "<matplotlib.figure.Figure at 0x7ffaeee49b00>"
      ]
     },
     "metadata": {},
     "output_type": "display_data"
    }
   ],
   "source": [
    "df['preco_milho_norm'] = (df['preco_milho'] - df['preco_milho'].mean())/(df['preco_milho'].max() - df['preco_milho'].min())\n",
    "df['preco_soja_norm'] = (df['preco_soja'] - df['preco_soja'].mean())/(df['preco_soja'].max() - df['preco_soja'].min())\n",
    "linhaMilhoNorm = plt.plot(df['data'], df['preco_milho_norm'], label='Preço do Milho Normalizado')\n",
    "linhaSojaNorm = plt.plot(df['data'], df['preco_soja_norm'], label='Preço da Soja Normalizado')\n",
    "legenda = plt.legend(handles=[linhaMilhoNorm[0], linhaSojaNorm[0]])\n",
    "plt.title('Valores Diários Normalizados')\n",
    "plt.show()"
   ]
  },
  {
   "cell_type": "markdown",
   "metadata": {},
   "source": [
    "## Análise de covariância e correlação"
   ]
  },
  {
   "cell_type": "code",
   "execution_count": 16,
   "metadata": {},
   "outputs": [
    {
     "data": {
      "text/html": [
       "<div>\n",
       "<style>\n",
       "    .dataframe thead tr:only-child th {\n",
       "        text-align: right;\n",
       "    }\n",
       "\n",
       "    .dataframe thead th {\n",
       "        text-align: left;\n",
       "    }\n",
       "\n",
       "    .dataframe tbody tr th {\n",
       "        vertical-align: top;\n",
       "    }\n",
       "</style>\n",
       "<table border=\"1\" class=\"dataframe\">\n",
       "  <thead>\n",
       "    <tr style=\"text-align: right;\">\n",
       "      <th></th>\n",
       "      <th>preco_milho</th>\n",
       "      <th>preco_soja</th>\n",
       "    </tr>\n",
       "  </thead>\n",
       "  <tbody>\n",
       "    <tr>\n",
       "      <th>preco_milho</th>\n",
       "      <td>12.698293</td>\n",
       "      <td>15.493658</td>\n",
       "    </tr>\n",
       "    <tr>\n",
       "      <th>preco_soja</th>\n",
       "      <td>15.493658</td>\n",
       "      <td>33.689041</td>\n",
       "    </tr>\n",
       "  </tbody>\n",
       "</table>\n",
       "</div>"
      ],
      "text/plain": [
       "             preco_milho  preco_soja\n",
       "preco_milho    12.698293   15.493658\n",
       "preco_soja     15.493658   33.689041"
      ]
     },
     "execution_count": 16,
     "metadata": {},
     "output_type": "execute_result"
    }
   ],
   "source": [
    "df.drop('preco_milho_norm', axis=1, inplace=True)\n",
    "df.drop('preco_soja_norm', axis=1, inplace=True)\n",
    "df.cov()"
   ]
  },
  {
   "cell_type": "markdown",
   "metadata": {},
   "source": [
    "A covariância obtida é de 33,68, para uma melhor comparação devemos utilizar a correlação."
   ]
  },
  {
   "cell_type": "code",
   "execution_count": 17,
   "metadata": {},
   "outputs": [
    {
     "data": {
      "text/html": [
       "<div>\n",
       "<style>\n",
       "    .dataframe thead tr:only-child th {\n",
       "        text-align: right;\n",
       "    }\n",
       "\n",
       "    .dataframe thead th {\n",
       "        text-align: left;\n",
       "    }\n",
       "\n",
       "    .dataframe tbody tr th {\n",
       "        vertical-align: top;\n",
       "    }\n",
       "</style>\n",
       "<table border=\"1\" class=\"dataframe\">\n",
       "  <thead>\n",
       "    <tr style=\"text-align: right;\">\n",
       "      <th></th>\n",
       "      <th>preco_milho</th>\n",
       "      <th>preco_soja</th>\n",
       "    </tr>\n",
       "  </thead>\n",
       "  <tbody>\n",
       "    <tr>\n",
       "      <th>preco_milho</th>\n",
       "      <td>1.000000</td>\n",
       "      <td>0.749095</td>\n",
       "    </tr>\n",
       "    <tr>\n",
       "      <th>preco_soja</th>\n",
       "      <td>0.749095</td>\n",
       "      <td>1.000000</td>\n",
       "    </tr>\n",
       "  </tbody>\n",
       "</table>\n",
       "</div>"
      ],
      "text/plain": [
       "             preco_milho  preco_soja\n",
       "preco_milho     1.000000    0.749095\n",
       "preco_soja      0.749095    1.000000"
      ]
     },
     "execution_count": 17,
     "metadata": {},
     "output_type": "execute_result"
    }
   ],
   "source": [
    "df.corr()"
   ]
  },
  {
   "cell_type": "markdown",
   "metadata": {},
   "source": [
    "O valor de 0,749 indica uma correlação forte entre as duas séries"
   ]
  },
  {
   "cell_type": "markdown",
   "metadata": {},
   "source": [
    "## Algoritmo de seleção\n",
    "### Colheita - Definido pelo modelo\n",
    "Valores selecionados pelo algoritmo como sendo considerados de \"Colheita\"."
   ]
  },
  {
   "cell_type": "code",
   "execution_count": 18,
   "metadata": {
    "scrolled": true
   },
   "outputs": [
    {
     "name": "stdout",
     "output_type": "stream",
     "text": [
      "Total de observações definidos como período de colheita:  134\n"
     ]
    }
   ],
   "source": [
    "df.drop('preco_milho', axis=1, inplace=True)\n",
    "mask1 = ((df['ano'] == 2014) & (df['preco_soja'] >= float(67)))\n",
    "mask2 = ((df['ano'] == 2015) & (df['preco_soja'] >= float(58)) & (df['preco_soja'] <= float(62)))\n",
    "mask = mask1  | mask2 \n",
    "colheita = df.loc[mask]\n",
    "print(\"Total de observações definidos como período de colheita: \", colheita.shape[0])"
   ]
  },
  {
   "cell_type": "code",
   "execution_count": 19,
   "metadata": {},
   "outputs": [
    {
     "data": {
      "text/html": [
       "<div>\n",
       "<style>\n",
       "    .dataframe thead tr:only-child th {\n",
       "        text-align: right;\n",
       "    }\n",
       "\n",
       "    .dataframe thead th {\n",
       "        text-align: left;\n",
       "    }\n",
       "\n",
       "    .dataframe tbody tr th {\n",
       "        vertical-align: top;\n",
       "    }\n",
       "</style>\n",
       "<table border=\"1\" class=\"dataframe\">\n",
       "  <thead>\n",
       "    <tr style=\"text-align: right;\">\n",
       "      <th></th>\n",
       "      <th>observacao</th>\n",
       "      <th>data</th>\n",
       "      <th>mes</th>\n",
       "      <th>ano</th>\n",
       "      <th>preco_soja</th>\n",
       "    </tr>\n",
       "  </thead>\n",
       "  <tbody>\n",
       "    <tr>\n",
       "      <th>7</th>\n",
       "      <td>1</td>\n",
       "      <td>2014-01-02</td>\n",
       "      <td>1</td>\n",
       "      <td>2014</td>\n",
       "      <td>72.18</td>\n",
       "    </tr>\n",
       "    <tr>\n",
       "      <th>8</th>\n",
       "      <td>2</td>\n",
       "      <td>2014-01-03</td>\n",
       "      <td>1</td>\n",
       "      <td>2014</td>\n",
       "      <td>71.42</td>\n",
       "    </tr>\n",
       "    <tr>\n",
       "      <th>9</th>\n",
       "      <td>3</td>\n",
       "      <td>2014-01-06</td>\n",
       "      <td>1</td>\n",
       "      <td>2014</td>\n",
       "      <td>71.38</td>\n",
       "    </tr>\n",
       "    <tr>\n",
       "      <th>10</th>\n",
       "      <td>4</td>\n",
       "      <td>2014-01-07</td>\n",
       "      <td>1</td>\n",
       "      <td>2014</td>\n",
       "      <td>70.31</td>\n",
       "    </tr>\n",
       "    <tr>\n",
       "      <th>11</th>\n",
       "      <td>5</td>\n",
       "      <td>2014-01-08</td>\n",
       "      <td>1</td>\n",
       "      <td>2014</td>\n",
       "      <td>70.14</td>\n",
       "    </tr>\n",
       "    <tr>\n",
       "      <th>12</th>\n",
       "      <td>6</td>\n",
       "      <td>2014-01-09</td>\n",
       "      <td>1</td>\n",
       "      <td>2014</td>\n",
       "      <td>68.97</td>\n",
       "    </tr>\n",
       "    <tr>\n",
       "      <th>13</th>\n",
       "      <td>7</td>\n",
       "      <td>2014-01-10</td>\n",
       "      <td>1</td>\n",
       "      <td>2014</td>\n",
       "      <td>68.64</td>\n",
       "    </tr>\n",
       "    <tr>\n",
       "      <th>14</th>\n",
       "      <td>8</td>\n",
       "      <td>2014-01-13</td>\n",
       "      <td>1</td>\n",
       "      <td>2014</td>\n",
       "      <td>67.59</td>\n",
       "    </tr>\n",
       "    <tr>\n",
       "      <th>15</th>\n",
       "      <td>9</td>\n",
       "      <td>2014-01-14</td>\n",
       "      <td>1</td>\n",
       "      <td>2014</td>\n",
       "      <td>67.78</td>\n",
       "    </tr>\n",
       "    <tr>\n",
       "      <th>16</th>\n",
       "      <td>10</td>\n",
       "      <td>2014-01-15</td>\n",
       "      <td>1</td>\n",
       "      <td>2014</td>\n",
       "      <td>67.60</td>\n",
       "    </tr>\n",
       "  </tbody>\n",
       "</table>\n",
       "</div>"
      ],
      "text/plain": [
       "   observacao       data mes   ano  preco_soja\n",
       "7           1 2014-01-02   1  2014       72.18\n",
       "8           2 2014-01-03   1  2014       71.42\n",
       "9           3 2014-01-06   1  2014       71.38\n",
       "10          4 2014-01-07   1  2014       70.31\n",
       "11          5 2014-01-08   1  2014       70.14\n",
       "12          6 2014-01-09   1  2014       68.97\n",
       "13          7 2014-01-10   1  2014       68.64\n",
       "14          8 2014-01-13   1  2014       67.59\n",
       "15          9 2014-01-14   1  2014       67.78\n",
       "16         10 2014-01-15   1  2014       67.60"
      ]
     },
     "execution_count": 19,
     "metadata": {},
     "output_type": "execute_result"
    }
   ],
   "source": [
    "colheita.head(10)"
   ]
  },
  {
   "cell_type": "markdown",
   "metadata": {},
   "source": [
    "### Plantio - Definido pelo modelo\n",
    "Valores selecionados pelo algoritmo como sendo considerados de \"Plantio\"."
   ]
  },
  {
   "cell_type": "code",
   "execution_count": 20,
   "metadata": {},
   "outputs": [
    {
     "name": "stdout",
     "output_type": "stream",
     "text": [
      "Total de observações definidos como período de plantio:  364\n"
     ]
    }
   ],
   "source": [
    "plantio = df[~df.isin(colheita)].dropna()\n",
    "print(\"Total de observações definidos como período de plantio: \", plantio.shape[0])"
   ]
  },
  {
   "cell_type": "code",
   "execution_count": 21,
   "metadata": {},
   "outputs": [
    {
     "data": {
      "text/html": [
       "<div>\n",
       "<style>\n",
       "    .dataframe thead tr:only-child th {\n",
       "        text-align: right;\n",
       "    }\n",
       "\n",
       "    .dataframe thead th {\n",
       "        text-align: left;\n",
       "    }\n",
       "\n",
       "    .dataframe tbody tr th {\n",
       "        vertical-align: top;\n",
       "    }\n",
       "</style>\n",
       "<table border=\"1\" class=\"dataframe\">\n",
       "  <thead>\n",
       "    <tr style=\"text-align: right;\">\n",
       "      <th></th>\n",
       "      <th>observacao</th>\n",
       "      <th>data</th>\n",
       "      <th>mes</th>\n",
       "      <th>ano</th>\n",
       "      <th>preco_soja</th>\n",
       "    </tr>\n",
       "  </thead>\n",
       "  <tbody>\n",
       "    <tr>\n",
       "      <th>20</th>\n",
       "      <td>14</td>\n",
       "      <td>2014-01-21</td>\n",
       "      <td>1</td>\n",
       "      <td>2014</td>\n",
       "      <td>66.55</td>\n",
       "    </tr>\n",
       "    <tr>\n",
       "      <th>21</th>\n",
       "      <td>15</td>\n",
       "      <td>2014-01-22</td>\n",
       "      <td>1</td>\n",
       "      <td>2014</td>\n",
       "      <td>65.07</td>\n",
       "    </tr>\n",
       "    <tr>\n",
       "      <th>22</th>\n",
       "      <td>16</td>\n",
       "      <td>2014-01-23</td>\n",
       "      <td>1</td>\n",
       "      <td>2014</td>\n",
       "      <td>65.04</td>\n",
       "    </tr>\n",
       "    <tr>\n",
       "      <th>23</th>\n",
       "      <td>17</td>\n",
       "      <td>2014-01-24</td>\n",
       "      <td>1</td>\n",
       "      <td>2014</td>\n",
       "      <td>65.02</td>\n",
       "    </tr>\n",
       "    <tr>\n",
       "      <th>24</th>\n",
       "      <td>18</td>\n",
       "      <td>2014-01-27</td>\n",
       "      <td>1</td>\n",
       "      <td>2014</td>\n",
       "      <td>65.10</td>\n",
       "    </tr>\n",
       "    <tr>\n",
       "      <th>25</th>\n",
       "      <td>19</td>\n",
       "      <td>2014-01-28</td>\n",
       "      <td>1</td>\n",
       "      <td>2014</td>\n",
       "      <td>64.81</td>\n",
       "    </tr>\n",
       "    <tr>\n",
       "      <th>26</th>\n",
       "      <td>20</td>\n",
       "      <td>2014-01-29</td>\n",
       "      <td>1</td>\n",
       "      <td>2014</td>\n",
       "      <td>64.31</td>\n",
       "    </tr>\n",
       "    <tr>\n",
       "      <th>27</th>\n",
       "      <td>21</td>\n",
       "      <td>2014-01-30</td>\n",
       "      <td>1</td>\n",
       "      <td>2014</td>\n",
       "      <td>64.50</td>\n",
       "    </tr>\n",
       "    <tr>\n",
       "      <th>28</th>\n",
       "      <td>22</td>\n",
       "      <td>2014-01-31</td>\n",
       "      <td>1</td>\n",
       "      <td>2014</td>\n",
       "      <td>64.15</td>\n",
       "    </tr>\n",
       "    <tr>\n",
       "      <th>29</th>\n",
       "      <td>23</td>\n",
       "      <td>2014-02-03</td>\n",
       "      <td>2</td>\n",
       "      <td>2014</td>\n",
       "      <td>63.93</td>\n",
       "    </tr>\n",
       "  </tbody>\n",
       "</table>\n",
       "</div>"
      ],
      "text/plain": [
       "   observacao       data mes   ano  preco_soja\n",
       "20         14 2014-01-21   1  2014       66.55\n",
       "21         15 2014-01-22   1  2014       65.07\n",
       "22         16 2014-01-23   1  2014       65.04\n",
       "23         17 2014-01-24   1  2014       65.02\n",
       "24         18 2014-01-27   1  2014       65.10\n",
       "25         19 2014-01-28   1  2014       64.81\n",
       "26         20 2014-01-29   1  2014       64.31\n",
       "27         21 2014-01-30   1  2014       64.50\n",
       "28         22 2014-01-31   1  2014       64.15\n",
       "29         23 2014-02-03   2  2014       63.93"
      ]
     },
     "execution_count": 21,
     "metadata": {},
     "output_type": "execute_result"
    }
   ],
   "source": [
    "plantio.head(10)"
   ]
  },
  {
   "cell_type": "markdown",
   "metadata": {},
   "source": [
    "### Colheita - Utilizando intervalo de colheita\n",
    "Valores que estão entre o intervalo de 01/01 a 31/05, que é a epoca da colheita."
   ]
  },
  {
   "cell_type": "code",
   "execution_count": 22,
   "metadata": {},
   "outputs": [
    {
     "name": "stdout",
     "output_type": "stream",
     "text": [
      "Total de observações reais para o período de colheita:  203\n"
     ]
    }
   ],
   "source": [
    "maskGroundTruthColheita = (((df['data'] >= '2014-01-01') & (df['data'] <= '2014-05-31')) | \n",
    "                ((df['data'] >= '2015-01-01') & (df['data'] <= '2015-05-31')))\n",
    "groundTruthColheita = df.loc[maskGroundTruthColheita]\n",
    "nGroundTruthPositivoColheita = groundTruthColheita.shape[0]\n",
    "print(\"Total de observações reais para o período de colheita: \", groundTruthColheita.shape[0])"
   ]
  },
  {
   "cell_type": "code",
   "execution_count": 23,
   "metadata": {},
   "outputs": [
    {
     "data": {
      "text/html": [
       "<div>\n",
       "<style>\n",
       "    .dataframe thead tr:only-child th {\n",
       "        text-align: right;\n",
       "    }\n",
       "\n",
       "    .dataframe thead th {\n",
       "        text-align: left;\n",
       "    }\n",
       "\n",
       "    .dataframe tbody tr th {\n",
       "        vertical-align: top;\n",
       "    }\n",
       "</style>\n",
       "<table border=\"1\" class=\"dataframe\">\n",
       "  <thead>\n",
       "    <tr style=\"text-align: right;\">\n",
       "      <th></th>\n",
       "      <th>observacao</th>\n",
       "      <th>data</th>\n",
       "      <th>mes</th>\n",
       "      <th>ano</th>\n",
       "      <th>preco_soja</th>\n",
       "    </tr>\n",
       "  </thead>\n",
       "  <tbody>\n",
       "    <tr>\n",
       "      <th>7</th>\n",
       "      <td>1</td>\n",
       "      <td>2014-01-02</td>\n",
       "      <td>1</td>\n",
       "      <td>2014</td>\n",
       "      <td>72.18</td>\n",
       "    </tr>\n",
       "    <tr>\n",
       "      <th>8</th>\n",
       "      <td>2</td>\n",
       "      <td>2014-01-03</td>\n",
       "      <td>1</td>\n",
       "      <td>2014</td>\n",
       "      <td>71.42</td>\n",
       "    </tr>\n",
       "    <tr>\n",
       "      <th>9</th>\n",
       "      <td>3</td>\n",
       "      <td>2014-01-06</td>\n",
       "      <td>1</td>\n",
       "      <td>2014</td>\n",
       "      <td>71.38</td>\n",
       "    </tr>\n",
       "    <tr>\n",
       "      <th>10</th>\n",
       "      <td>4</td>\n",
       "      <td>2014-01-07</td>\n",
       "      <td>1</td>\n",
       "      <td>2014</td>\n",
       "      <td>70.31</td>\n",
       "    </tr>\n",
       "    <tr>\n",
       "      <th>11</th>\n",
       "      <td>5</td>\n",
       "      <td>2014-01-08</td>\n",
       "      <td>1</td>\n",
       "      <td>2014</td>\n",
       "      <td>70.14</td>\n",
       "    </tr>\n",
       "    <tr>\n",
       "      <th>12</th>\n",
       "      <td>6</td>\n",
       "      <td>2014-01-09</td>\n",
       "      <td>1</td>\n",
       "      <td>2014</td>\n",
       "      <td>68.97</td>\n",
       "    </tr>\n",
       "    <tr>\n",
       "      <th>13</th>\n",
       "      <td>7</td>\n",
       "      <td>2014-01-10</td>\n",
       "      <td>1</td>\n",
       "      <td>2014</td>\n",
       "      <td>68.64</td>\n",
       "    </tr>\n",
       "    <tr>\n",
       "      <th>14</th>\n",
       "      <td>8</td>\n",
       "      <td>2014-01-13</td>\n",
       "      <td>1</td>\n",
       "      <td>2014</td>\n",
       "      <td>67.59</td>\n",
       "    </tr>\n",
       "    <tr>\n",
       "      <th>15</th>\n",
       "      <td>9</td>\n",
       "      <td>2014-01-14</td>\n",
       "      <td>1</td>\n",
       "      <td>2014</td>\n",
       "      <td>67.78</td>\n",
       "    </tr>\n",
       "    <tr>\n",
       "      <th>16</th>\n",
       "      <td>10</td>\n",
       "      <td>2014-01-15</td>\n",
       "      <td>1</td>\n",
       "      <td>2014</td>\n",
       "      <td>67.60</td>\n",
       "    </tr>\n",
       "  </tbody>\n",
       "</table>\n",
       "</div>"
      ],
      "text/plain": [
       "   observacao       data mes   ano  preco_soja\n",
       "7           1 2014-01-02   1  2014       72.18\n",
       "8           2 2014-01-03   1  2014       71.42\n",
       "9           3 2014-01-06   1  2014       71.38\n",
       "10          4 2014-01-07   1  2014       70.31\n",
       "11          5 2014-01-08   1  2014       70.14\n",
       "12          6 2014-01-09   1  2014       68.97\n",
       "13          7 2014-01-10   1  2014       68.64\n",
       "14          8 2014-01-13   1  2014       67.59\n",
       "15          9 2014-01-14   1  2014       67.78\n",
       "16         10 2014-01-15   1  2014       67.60"
      ]
     },
     "execution_count": 23,
     "metadata": {},
     "output_type": "execute_result"
    }
   ],
   "source": [
    "groundTruthColheita.head(10)"
   ]
  },
  {
   "cell_type": "markdown",
   "metadata": {},
   "source": [
    "### Plantio - Utilizando intervalo de colheita\n",
    "Valores que estão fora do intervalo de 01/01 a 31/05."
   ]
  },
  {
   "cell_type": "code",
   "execution_count": 24,
   "metadata": {},
   "outputs": [
    {
     "name": "stdout",
     "output_type": "stream",
     "text": [
      "Total de observações reais para o período de plantio:  295\n"
     ]
    }
   ],
   "source": [
    "grounTruthPlantio = df[~df.isin(groundTruthColheita)].dropna()\n",
    "print(\"Total de observações reais para o período de plantio: \", grounTruthPlantio.shape[0])"
   ]
  },
  {
   "cell_type": "code",
   "execution_count": 25,
   "metadata": {},
   "outputs": [
    {
     "data": {
      "text/html": [
       "<div>\n",
       "<style>\n",
       "    .dataframe thead tr:only-child th {\n",
       "        text-align: right;\n",
       "    }\n",
       "\n",
       "    .dataframe thead th {\n",
       "        text-align: left;\n",
       "    }\n",
       "\n",
       "    .dataframe tbody tr th {\n",
       "        vertical-align: top;\n",
       "    }\n",
       "</style>\n",
       "<table border=\"1\" class=\"dataframe\">\n",
       "  <thead>\n",
       "    <tr style=\"text-align: right;\">\n",
       "      <th></th>\n",
       "      <th>observacao</th>\n",
       "      <th>data</th>\n",
       "      <th>mes</th>\n",
       "      <th>ano</th>\n",
       "      <th>preco_soja</th>\n",
       "    </tr>\n",
       "  </thead>\n",
       "  <tbody>\n",
       "    <tr>\n",
       "      <th>109</th>\n",
       "      <td>103</td>\n",
       "      <td>2014-06-02</td>\n",
       "      <td>6</td>\n",
       "      <td>2014</td>\n",
       "      <td>69.05</td>\n",
       "    </tr>\n",
       "    <tr>\n",
       "      <th>110</th>\n",
       "      <td>104</td>\n",
       "      <td>2014-06-03</td>\n",
       "      <td>6</td>\n",
       "      <td>2014</td>\n",
       "      <td>68.95</td>\n",
       "    </tr>\n",
       "    <tr>\n",
       "      <th>111</th>\n",
       "      <td>105</td>\n",
       "      <td>2014-06-04</td>\n",
       "      <td>6</td>\n",
       "      <td>2014</td>\n",
       "      <td>69.30</td>\n",
       "    </tr>\n",
       "    <tr>\n",
       "      <th>112</th>\n",
       "      <td>106</td>\n",
       "      <td>2014-06-05</td>\n",
       "      <td>6</td>\n",
       "      <td>2014</td>\n",
       "      <td>69.02</td>\n",
       "    </tr>\n",
       "    <tr>\n",
       "      <th>113</th>\n",
       "      <td>107</td>\n",
       "      <td>2014-06-06</td>\n",
       "      <td>6</td>\n",
       "      <td>2014</td>\n",
       "      <td>68.31</td>\n",
       "    </tr>\n",
       "    <tr>\n",
       "      <th>114</th>\n",
       "      <td>108</td>\n",
       "      <td>2014-06-09</td>\n",
       "      <td>6</td>\n",
       "      <td>2014</td>\n",
       "      <td>67.38</td>\n",
       "    </tr>\n",
       "    <tr>\n",
       "      <th>115</th>\n",
       "      <td>109</td>\n",
       "      <td>2014-06-10</td>\n",
       "      <td>6</td>\n",
       "      <td>2014</td>\n",
       "      <td>67.69</td>\n",
       "    </tr>\n",
       "    <tr>\n",
       "      <th>116</th>\n",
       "      <td>110</td>\n",
       "      <td>2014-06-11</td>\n",
       "      <td>6</td>\n",
       "      <td>2014</td>\n",
       "      <td>67.59</td>\n",
       "    </tr>\n",
       "    <tr>\n",
       "      <th>117</th>\n",
       "      <td>111</td>\n",
       "      <td>2014-06-12</td>\n",
       "      <td>6</td>\n",
       "      <td>2014</td>\n",
       "      <td>67.52</td>\n",
       "    </tr>\n",
       "    <tr>\n",
       "      <th>118</th>\n",
       "      <td>112</td>\n",
       "      <td>2014-06-13</td>\n",
       "      <td>6</td>\n",
       "      <td>2014</td>\n",
       "      <td>66.84</td>\n",
       "    </tr>\n",
       "  </tbody>\n",
       "</table>\n",
       "</div>"
      ],
      "text/plain": [
       "    observacao       data mes   ano  preco_soja\n",
       "109        103 2014-06-02   6  2014       69.05\n",
       "110        104 2014-06-03   6  2014       68.95\n",
       "111        105 2014-06-04   6  2014       69.30\n",
       "112        106 2014-06-05   6  2014       69.02\n",
       "113        107 2014-06-06   6  2014       68.31\n",
       "114        108 2014-06-09   6  2014       67.38\n",
       "115        109 2014-06-10   6  2014       67.69\n",
       "116        110 2014-06-11   6  2014       67.59\n",
       "117        111 2014-06-12   6  2014       67.52\n",
       "118        112 2014-06-13   6  2014       66.84"
      ]
     },
     "execution_count": 25,
     "metadata": {},
     "output_type": "execute_result"
    }
   ],
   "source": [
    "grounTruthPlantio.head(10)"
   ]
  },
  {
   "cell_type": "markdown",
   "metadata": {},
   "source": [
    "### Falsos Positivos - Falsa Colheita\n",
    "Valores que foram considerados como colheita pelo modelo apresentado, porém encontram-se fora do período de colheita."
   ]
  },
  {
   "cell_type": "code",
   "execution_count": 26,
   "metadata": {},
   "outputs": [
    {
     "name": "stdout",
     "output_type": "stream",
     "text": [
      "Total de observações definidas de forma errada como colheita 15\n"
     ]
    }
   ],
   "source": [
    "falsoPositivo = colheita[~colheita.isin(groundTruthColheita)].dropna()\n",
    "nFalsoPositivo = falsoPositivo.shape[0]\n",
    "print(\"Total de observações definidas de forma errada como colheita\", nFalsoPositivo)"
   ]
  },
  {
   "cell_type": "code",
   "execution_count": 27,
   "metadata": {},
   "outputs": [
    {
     "data": {
      "text/html": [
       "<div>\n",
       "<style>\n",
       "    .dataframe thead tr:only-child th {\n",
       "        text-align: right;\n",
       "    }\n",
       "\n",
       "    .dataframe thead th {\n",
       "        text-align: left;\n",
       "    }\n",
       "\n",
       "    .dataframe tbody tr th {\n",
       "        vertical-align: top;\n",
       "    }\n",
       "</style>\n",
       "<table border=\"1\" class=\"dataframe\">\n",
       "  <thead>\n",
       "    <tr style=\"text-align: right;\">\n",
       "      <th></th>\n",
       "      <th>observacao</th>\n",
       "      <th>data</th>\n",
       "      <th>mes</th>\n",
       "      <th>ano</th>\n",
       "      <th>preco_soja</th>\n",
       "    </tr>\n",
       "  </thead>\n",
       "  <tbody>\n",
       "    <tr>\n",
       "      <th>109</th>\n",
       "      <td>103</td>\n",
       "      <td>2014-06-02</td>\n",
       "      <td>6</td>\n",
       "      <td>2014</td>\n",
       "      <td>69.05</td>\n",
       "    </tr>\n",
       "    <tr>\n",
       "      <th>110</th>\n",
       "      <td>104</td>\n",
       "      <td>2014-06-03</td>\n",
       "      <td>6</td>\n",
       "      <td>2014</td>\n",
       "      <td>68.95</td>\n",
       "    </tr>\n",
       "    <tr>\n",
       "      <th>111</th>\n",
       "      <td>105</td>\n",
       "      <td>2014-06-04</td>\n",
       "      <td>6</td>\n",
       "      <td>2014</td>\n",
       "      <td>69.30</td>\n",
       "    </tr>\n",
       "    <tr>\n",
       "      <th>112</th>\n",
       "      <td>106</td>\n",
       "      <td>2014-06-05</td>\n",
       "      <td>6</td>\n",
       "      <td>2014</td>\n",
       "      <td>69.02</td>\n",
       "    </tr>\n",
       "    <tr>\n",
       "      <th>113</th>\n",
       "      <td>107</td>\n",
       "      <td>2014-06-06</td>\n",
       "      <td>6</td>\n",
       "      <td>2014</td>\n",
       "      <td>68.31</td>\n",
       "    </tr>\n",
       "    <tr>\n",
       "      <th>114</th>\n",
       "      <td>108</td>\n",
       "      <td>2014-06-09</td>\n",
       "      <td>6</td>\n",
       "      <td>2014</td>\n",
       "      <td>67.38</td>\n",
       "    </tr>\n",
       "    <tr>\n",
       "      <th>115</th>\n",
       "      <td>109</td>\n",
       "      <td>2014-06-10</td>\n",
       "      <td>6</td>\n",
       "      <td>2014</td>\n",
       "      <td>67.69</td>\n",
       "    </tr>\n",
       "    <tr>\n",
       "      <th>116</th>\n",
       "      <td>110</td>\n",
       "      <td>2014-06-11</td>\n",
       "      <td>6</td>\n",
       "      <td>2014</td>\n",
       "      <td>67.59</td>\n",
       "    </tr>\n",
       "    <tr>\n",
       "      <th>117</th>\n",
       "      <td>111</td>\n",
       "      <td>2014-06-12</td>\n",
       "      <td>6</td>\n",
       "      <td>2014</td>\n",
       "      <td>67.52</td>\n",
       "    </tr>\n",
       "    <tr>\n",
       "      <th>123</th>\n",
       "      <td>117</td>\n",
       "      <td>2014-06-23</td>\n",
       "      <td>6</td>\n",
       "      <td>2014</td>\n",
       "      <td>67.06</td>\n",
       "    </tr>\n",
       "    <tr>\n",
       "      <th>125</th>\n",
       "      <td>119</td>\n",
       "      <td>2014-06-25</td>\n",
       "      <td>6</td>\n",
       "      <td>2014</td>\n",
       "      <td>67.02</td>\n",
       "    </tr>\n",
       "    <tr>\n",
       "      <th>126</th>\n",
       "      <td>120</td>\n",
       "      <td>2014-06-26</td>\n",
       "      <td>6</td>\n",
       "      <td>2014</td>\n",
       "      <td>67.38</td>\n",
       "    </tr>\n",
       "    <tr>\n",
       "      <th>127</th>\n",
       "      <td>121</td>\n",
       "      <td>2014-06-27</td>\n",
       "      <td>6</td>\n",
       "      <td>2014</td>\n",
       "      <td>67.52</td>\n",
       "    </tr>\n",
       "    <tr>\n",
       "      <th>366</th>\n",
       "      <td>360</td>\n",
       "      <td>2015-06-12</td>\n",
       "      <td>6</td>\n",
       "      <td>2015</td>\n",
       "      <td>61.91</td>\n",
       "    </tr>\n",
       "    <tr>\n",
       "      <th>367</th>\n",
       "      <td>361</td>\n",
       "      <td>2015-06-15</td>\n",
       "      <td>6</td>\n",
       "      <td>2015</td>\n",
       "      <td>61.55</td>\n",
       "    </tr>\n",
       "  </tbody>\n",
       "</table>\n",
       "</div>"
      ],
      "text/plain": [
       "    observacao       data mes   ano  preco_soja\n",
       "109        103 2014-06-02   6  2014       69.05\n",
       "110        104 2014-06-03   6  2014       68.95\n",
       "111        105 2014-06-04   6  2014       69.30\n",
       "112        106 2014-06-05   6  2014       69.02\n",
       "113        107 2014-06-06   6  2014       68.31\n",
       "114        108 2014-06-09   6  2014       67.38\n",
       "115        109 2014-06-10   6  2014       67.69\n",
       "116        110 2014-06-11   6  2014       67.59\n",
       "117        111 2014-06-12   6  2014       67.52\n",
       "123        117 2014-06-23   6  2014       67.06\n",
       "125        119 2014-06-25   6  2014       67.02\n",
       "126        120 2014-06-26   6  2014       67.38\n",
       "127        121 2014-06-27   6  2014       67.52\n",
       "366        360 2015-06-12   6  2015       61.91\n",
       "367        361 2015-06-15   6  2015       61.55"
      ]
     },
     "execution_count": 27,
     "metadata": {},
     "output_type": "execute_result"
    }
   ],
   "source": [
    "falsoPositivo.head(15)"
   ]
  },
  {
   "cell_type": "markdown",
   "metadata": {},
   "source": [
    "Como pode-se observar os valores acima foram definidos pelo algoritmo como do período de colheita, porém os mesmos não estão dentro do intervalo onde é realizada a colheita"
   ]
  },
  {
   "cell_type": "markdown",
   "metadata": {
    "collapsed": true
   },
   "source": [
    "### Falsos Negativos - Falso Plantio\n",
    "Valores que foram considerados como plantio pelo modelo apresentado, porém encontram-se dentro do período de colheita."
   ]
  },
  {
   "cell_type": "code",
   "execution_count": 28,
   "metadata": {},
   "outputs": [
    {
     "name": "stdout",
     "output_type": "stream",
     "text": [
      "Total de observações definidas de forma errada como plantio 84\n"
     ]
    }
   ],
   "source": [
    "falsoNegativo = plantio[~plantio.isin(grounTruthPlantio)].dropna()\n",
    "nFalsoNegativo = falsoNegativo.shape[0]\n",
    "print(\"Total de observações definidas de forma errada como plantio\", nFalsoNegativo)"
   ]
  },
  {
   "cell_type": "code",
   "execution_count": 29,
   "metadata": {},
   "outputs": [
    {
     "data": {
      "text/html": [
       "<div>\n",
       "<style>\n",
       "    .dataframe thead tr:only-child th {\n",
       "        text-align: right;\n",
       "    }\n",
       "\n",
       "    .dataframe thead th {\n",
       "        text-align: left;\n",
       "    }\n",
       "\n",
       "    .dataframe tbody tr th {\n",
       "        vertical-align: top;\n",
       "    }\n",
       "</style>\n",
       "<table border=\"1\" class=\"dataframe\">\n",
       "  <thead>\n",
       "    <tr style=\"text-align: right;\">\n",
       "      <th></th>\n",
       "      <th>observacao</th>\n",
       "      <th>data</th>\n",
       "      <th>mes</th>\n",
       "      <th>ano</th>\n",
       "      <th>preco_soja</th>\n",
       "    </tr>\n",
       "  </thead>\n",
       "  <tbody>\n",
       "    <tr>\n",
       "      <th>20</th>\n",
       "      <td>14</td>\n",
       "      <td>2014-01-21</td>\n",
       "      <td>1</td>\n",
       "      <td>2014</td>\n",
       "      <td>66.55</td>\n",
       "    </tr>\n",
       "    <tr>\n",
       "      <th>21</th>\n",
       "      <td>15</td>\n",
       "      <td>2014-01-22</td>\n",
       "      <td>1</td>\n",
       "      <td>2014</td>\n",
       "      <td>65.07</td>\n",
       "    </tr>\n",
       "    <tr>\n",
       "      <th>22</th>\n",
       "      <td>16</td>\n",
       "      <td>2014-01-23</td>\n",
       "      <td>1</td>\n",
       "      <td>2014</td>\n",
       "      <td>65.04</td>\n",
       "    </tr>\n",
       "    <tr>\n",
       "      <th>23</th>\n",
       "      <td>17</td>\n",
       "      <td>2014-01-24</td>\n",
       "      <td>1</td>\n",
       "      <td>2014</td>\n",
       "      <td>65.02</td>\n",
       "    </tr>\n",
       "    <tr>\n",
       "      <th>24</th>\n",
       "      <td>18</td>\n",
       "      <td>2014-01-27</td>\n",
       "      <td>1</td>\n",
       "      <td>2014</td>\n",
       "      <td>65.10</td>\n",
       "    </tr>\n",
       "    <tr>\n",
       "      <th>25</th>\n",
       "      <td>19</td>\n",
       "      <td>2014-01-28</td>\n",
       "      <td>1</td>\n",
       "      <td>2014</td>\n",
       "      <td>64.81</td>\n",
       "    </tr>\n",
       "    <tr>\n",
       "      <th>26</th>\n",
       "      <td>20</td>\n",
       "      <td>2014-01-29</td>\n",
       "      <td>1</td>\n",
       "      <td>2014</td>\n",
       "      <td>64.31</td>\n",
       "    </tr>\n",
       "    <tr>\n",
       "      <th>27</th>\n",
       "      <td>21</td>\n",
       "      <td>2014-01-30</td>\n",
       "      <td>1</td>\n",
       "      <td>2014</td>\n",
       "      <td>64.50</td>\n",
       "    </tr>\n",
       "    <tr>\n",
       "      <th>28</th>\n",
       "      <td>22</td>\n",
       "      <td>2014-01-31</td>\n",
       "      <td>1</td>\n",
       "      <td>2014</td>\n",
       "      <td>64.15</td>\n",
       "    </tr>\n",
       "    <tr>\n",
       "      <th>29</th>\n",
       "      <td>23</td>\n",
       "      <td>2014-02-03</td>\n",
       "      <td>2</td>\n",
       "      <td>2014</td>\n",
       "      <td>63.93</td>\n",
       "    </tr>\n",
       "  </tbody>\n",
       "</table>\n",
       "</div>"
      ],
      "text/plain": [
       "   observacao       data mes   ano  preco_soja\n",
       "20         14 2014-01-21   1  2014       66.55\n",
       "21         15 2014-01-22   1  2014       65.07\n",
       "22         16 2014-01-23   1  2014       65.04\n",
       "23         17 2014-01-24   1  2014       65.02\n",
       "24         18 2014-01-27   1  2014       65.10\n",
       "25         19 2014-01-28   1  2014       64.81\n",
       "26         20 2014-01-29   1  2014       64.31\n",
       "27         21 2014-01-30   1  2014       64.50\n",
       "28         22 2014-01-31   1  2014       64.15\n",
       "29         23 2014-02-03   2  2014       63.93"
      ]
     },
     "execution_count": 29,
     "metadata": {},
     "output_type": "execute_result"
    }
   ],
   "source": [
    "falsoNegativo.head(10)"
   ]
  },
  {
   "cell_type": "markdown",
   "metadata": {},
   "source": [
    "Como pode-se observar, os valores foram selecionados como plantio, porém se encontram dentro do período de colheita(01/01 até 31/05)"
   ]
  },
  {
   "cell_type": "markdown",
   "metadata": {},
   "source": [
    "### Verdadeiro Positivo - Verdadeiro Colheita\n",
    "valores que algoritmo acertou em prever como colheita"
   ]
  },
  {
   "cell_type": "code",
   "execution_count": 30,
   "metadata": {},
   "outputs": [
    {
     "name": "stdout",
     "output_type": "stream",
     "text": [
      "Foram previstos 119 valores de forma correta como colheita\n"
     ]
    }
   ],
   "source": [
    "verdadeiroPositivo = colheita[~colheita.isin(falsoPositivo)].dropna()\n",
    "nVerdadeiroPositivo = verdadeiroPositivo.shape[0]\n",
    "print(\"Foram previstos {} valores de forma correta como colheita\".format(nVerdadeiroPositivo))"
   ]
  },
  {
   "cell_type": "markdown",
   "metadata": {
    "collapsed": true
   },
   "source": [
    "### Verdadeiro Negativo - Verdadeiro Plantio\n",
    "valores que o algoritmo acertou em prever como plantio"
   ]
  },
  {
   "cell_type": "code",
   "execution_count": 31,
   "metadata": {},
   "outputs": [
    {
     "name": "stdout",
     "output_type": "stream",
     "text": [
      "Foram previstos 280 valores de forma correta como plantio\n"
     ]
    }
   ],
   "source": [
    "verdadeiroNegativo = plantio[~plantio.isin(falsoNegativo)].dropna()\n",
    "nVerdadeiroNegativo = verdadeiroNegativo.shape[0]\n",
    "print(\"Foram previstos {} valores de forma correta como plantio\".format(nVerdadeiroNegativo))"
   ]
  },
  {
   "cell_type": "code",
   "execution_count": 32,
   "metadata": {},
   "outputs": [],
   "source": [
    "acuracia = (nVerdadeiroNegativo + nVerdadeiroPositivo)/df.shape[0]\n",
    "sensibilidade = nVerdadeiroPositivo/(nVerdadeiroPositivo + nFalsoNegativo)\n",
    "especifidade = nVerdadeiroNegativo/(nVerdadeiroNegativo + nFalsoPositivo)\n",
    "eficiencia = (sensibilidade + especifidade)/2\n",
    "ppv = (nVerdadeiroPositivo)/(nVerdadeiroPositivo + nFalsoPositivo)\n",
    "ppn = (nVerdadeiroNegativo)/(nVerdadeiroNegativo + nFalsoNegativo)"
   ]
  },
  {
   "cell_type": "code",
   "execution_count": 33,
   "metadata": {},
   "outputs": [
    {
     "name": "stdout",
     "output_type": "stream",
     "text": [
      "Acurácia: 0.8012048192771084\n",
      "Sensibilidade: 0.5862068965517241\n",
      "Especifidade: 0.9491525423728814\n",
      "Eficiência: 0.7676797194623027\n",
      "Preditividade Positiva:  0.8880597014925373\n",
      "Preditividade Negativa:  0.7692307692307693\n"
     ]
    }
   ],
   "source": [
    "print(\"Acurácia:\", acuracia)\n",
    "print(\"Sensibilidade:\", sensibilidade )\n",
    "print(\"Especifidade:\", especifidade )\n",
    "print(\"Eficiência:\", eficiencia)\n",
    "print(\"Preditividade Positiva: \", ppv)\n",
    "print(\"Preditividade Negativa: \", ppn)"
   ]
  },
  {
   "cell_type": "markdown",
   "metadata": {},
   "source": [
    "### Gráfico ROC\n",
    "|   | **p** | **n** |\n",
    "|:-|:-|:-|\n",
    "| **Y** |  119 | 15  |\n",
    "| **N** |  84 |  280 |"
   ]
  },
  {
   "cell_type": "code",
   "execution_count": null,
   "metadata": {
    "collapsed": true
   },
   "outputs": [],
   "source": []
  }
 ],
 "metadata": {
  "kernelspec": {
   "display_name": "Python 3",
   "language": "python",
   "name": "python3"
  },
  "language_info": {
   "codemirror_mode": {
    "name": "ipython",
    "version": 3
   },
   "file_extension": ".py",
   "mimetype": "text/x-python",
   "name": "python",
   "nbconvert_exporter": "python",
   "pygments_lexer": "ipython3",
   "version": "3.5.2"
  }
 },
 "nbformat": 4,
 "nbformat_minor": 2
}
